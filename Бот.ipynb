{
  "nbformat": 4,
  "nbformat_minor": 0,
  "metadata": {
    "colab": {
      "provenance": []
    },
    "kernelspec": {
      "name": "python3",
      "display_name": "Python 3"
    },
    "language_info": {
      "name": "python"
    }
  },
  "cells": [
    {
      "cell_type": "code",
      "execution_count": null,
      "metadata": {
        "id": "cUz33kvEGhrZ"
      },
      "outputs": [],
      "source": [
        "pip install pytelegrambotapi"
      ]
    },
    {
      "cell_type": "code",
      "source": [
        "import telebot\n",
        "from telebot import types"
      ],
      "metadata": {
        "id": "Rlqmhw-TGs5k"
      },
      "execution_count": 73,
      "outputs": []
    },
    {
      "cell_type": "code",
      "source": [
        "your_bot ='6146292379:AAEkg83xlb3KehUmivzOz8KW53dPmHGarv4'"
      ],
      "metadata": {
        "id": "MURazoZ7G4OA"
      },
      "execution_count": 147,
      "outputs": []
    },
    {
      "cell_type": "code",
      "source": [
        "bot = telebot.TeleBot(your_bot)"
      ],
      "metadata": {
        "id": "4aXoExsRIVzz"
      },
      "execution_count": 170,
      "outputs": []
    },
    {
      "cell_type": "code",
      "source": [
        "@bot.message_handler(commands=['start'])\n",
        "def start(message):\n",
        "  markup = types.ReplyKeyboardMarkup(resize_keyboard=True)\n",
        "  button1 = types.KeyboardButton('Зарегестрироваться')\n",
        "  markup.add(button1)\n",
        "  bot.send_message(message.chat.id, \"👋 Привет, {0.first_name}!\\nВы попали к персональному помощнику по управлению Добро.Центром\\n\\nДля начала нужно зарегестрироваться 👇🏻\".format(message.from_user), reply_markup=markup)\n",
        "\n",
        "@bot.message_handler(content_types=['text'])\n",
        "def registtion(message):\n",
        "  if(message.text == 'Зарегестрироваться'):\n",
        "    markup = types.ReplyKeyboardMarkup(resize_keyboard=True)\n",
        "    button1 = types.KeyboardButton('Я ознакомился')\n",
        "    markup.add(button1)\n",
        "    bot.send_message(message.chat.id, \"Преждем чем приступить к регистрации предлагаем Вам ознакомится с публичной политикой обработки персональных данных Ассоциации волонтерских центров\".format(message.from_user), reply_markup=markup)\n",
        "  elif(message.text == 'Я ознакомился'):\n",
        "    markup = types.ReplyKeyboardMarkup(resize_keyboard=True)\n",
        "    button1 = types.KeyboardButton('Стандарт')\n",
        "    button2 = types.KeyboardButton('Мастер')\n",
        "    markup.add(button1, button2)\n",
        "    bot.send_message(message.chat.id, \"Какой у Вас пакет франшизы?\".format(message.from_user), reply_markup=markup)"
      ],
      "metadata": {
        "id": "AWOCYXfeMxsj"
      },
      "execution_count": 171,
      "outputs": []
    },
    {
      "cell_type": "code",
      "source": [
        "bot.polling(none_stop=True, interval=0)"
      ],
      "metadata": {
        "id": "gvBcMGPDKvCi"
      },
      "execution_count": 173,
      "outputs": []
    }
  ]
}
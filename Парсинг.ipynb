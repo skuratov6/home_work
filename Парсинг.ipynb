{
  "nbformat": 4,
  "nbformat_minor": 0,
  "metadata": {
    "colab": {
      "provenance": []
    },
    "kernelspec": {
      "name": "python3",
      "display_name": "Python 3"
    },
    "language_info": {
      "name": "python"
    }
  },
  "cells": [
    {
      "cell_type": "code",
      "source": [
        "!pip install requests\n",
        "!pip install beautifulsoup4 "
      ],
      "metadata": {
        "id": "RpWQ7L4JE78m"
      },
      "execution_count": null,
      "outputs": []
    },
    {
      "cell_type": "code",
      "source": [
        "import requests as rq\n",
        "from bs4 import BeautifulSoup\n",
        "import pandas as pd"
      ],
      "metadata": {
        "id": "pe0DJASrrZLU"
      },
      "execution_count": null,
      "outputs": []
    },
    {
      "cell_type": "code",
      "source": [
        "url = 'https://www.vedomosti.ru/ecology?utm_source=vedomosti.ru%2Fgorod&utm_medium=main&utm_campaign=desktop_main'"
      ],
      "metadata": {
        "id": "D3cH4HSlsrvs"
      },
      "execution_count": null,
      "outputs": []
    },
    {
      "cell_type": "code",
      "source": [
        "page = rq.get(url) \n",
        "soup = BeautifulSoup(page.text, features=\"html.parser\")\n",
        "print(soup.prettify())\n"
      ],
      "metadata": {
        "id": "cthR4FNtsOkS"
      },
      "execution_count": null,
      "outputs": []
    },
    {
      "cell_type": "code",
      "source": [
        "names = []\n",
        "for x in soup.find_all(\"a\"): # распакованный текст из тегов\n",
        "  names.append(x.text) # теги отбрось\n",
        "\n",
        "links = []\n",
        "for link in soup.find_all(\"a\"):\n",
        "  l = 'https://www.vedomosti.ru/ecology?utm_source=vedomosti.ru%2Fgorod&utm_medium=main&utm_campaign=desktop_main' + link.get('href')\n",
        "  links.append(l) \n",
        "\n",
        "print(names)\n",
        "print(links)"
      ],
      "metadata": {
        "id": "A3yEJwi9tpOE"
      },
      "execution_count": null,
      "outputs": []
    },
    {
      "cell_type": "code",
      "source": [
        "data = []\n",
        "\n",
        "for i in range(len(names)):\n",
        "  l = []\n",
        "  l.append(names[i])\n",
        "  l.append(links[i])\n",
        "  data.append(l)\n",
        "\n",
        "print(data)"
      ],
      "metadata": {
        "id": "oudxoKU5vNdY"
      },
      "execution_count": null,
      "outputs": []
    },
    {
      "cell_type": "code",
      "source": [
        "data"
      ],
      "metadata": {
        "id": "ocpqVbocvgPd"
      },
      "execution_count": null,
      "outputs": []
    },
    {
      "cell_type": "code",
      "source": [
        "texts = []\n",
        "for i in links:\n",
        "  page = rq.get(i)\n",
        "  page.encoding = 'utf-8'\n",
        "  soup = BeautifulSoup(page.text, features=\"html.parser\") \n",
        "  texts.append(soup.text)\n",
        "print(texts)"
      ],
      "metadata": {
        "id": "S_KGF0B3wm_9"
      },
      "execution_count": null,
      "outputs": []
    },
    {
      "cell_type": "code",
      "source": [
        "for i in soup.find_all('meta'):\n",
        "  print(i.get(\"content\"))"
      ],
      "metadata": {
        "id": "8_8m652j4Zol"
      },
      "execution_count": null,
      "outputs": []
    },
    {
      "cell_type": "code",
      "source": [
        "df = pd.DataFrame(data, columns=[\"Заголовок\", \"Ссылка\"])\n",
        "df[\"Текст\"] = texts\n",
        "df.to_csv(\"HP.csv\", encoding='utf-8')"
      ],
      "metadata": {
        "id": "WyA1DM6GxJYf"
      },
      "execution_count": 47,
      "outputs": []
    }
  ]
}